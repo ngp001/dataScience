{
  "nbformat": 4,
  "nbformat_minor": 0,
  "metadata": {
    "colab": {
      "name": "MultipleLinearRegression.ipynb",
      "provenance": [],
      "collapsed_sections": [],
      "toc_visible": true
    },
    "kernelspec": {
      "name": "python3",
      "display_name": "Python 3"
    },
    "language_info": {
      "name": "python"
    }
  },
  "cells": [
    {
      "cell_type": "markdown",
      "metadata": {
        "id": "805FOzKsu3uf"
      },
      "source": [
        "# About the Data"
      ]
    },
    {
      "cell_type": "markdown",
      "metadata": {
        "id": "RZYyiFUru7An"
      },
      "source": [
        "The dataset contains information for 50 start up companies. The goal is to calculate profit of a start up company after fitting the training data to the model."
      ]
    },
    {
      "cell_type": "markdown",
      "metadata": {
        "id": "fi-JoLSIt_U3"
      },
      "source": [
        "# Importing Packages"
      ]
    },
    {
      "cell_type": "code",
      "metadata": {
        "id": "Zix7XevstlGO"
      },
      "source": [
        "import pandas as pd\n",
        "import numpy as np\n",
        "import seaborn as sns\n",
        "import matplotlib.pyplot as plt\n",
        "from google.colab import drive\n",
        "\n",
        "from sklearn.compose import ColumnTransformer\n",
        "from sklearn.preprocessing import OneHotEncoder\n",
        "from sklearn.model_selection import train_test_split\n",
        "from sklearn.linear_model import LinearRegression\n",
        "from sklearn.metrics import r2_score"
      ],
      "execution_count": null,
      "outputs": []
    },
    {
      "cell_type": "markdown",
      "metadata": {
        "id": "loSpVFM7788v"
      },
      "source": [
        ""
      ]
    },
    {
      "cell_type": "code",
      "metadata": {
        "colab": {
          "base_uri": "https://localhost:8080/"
        },
        "id": "dO5yr3-xvgK4",
        "outputId": "bf709134-098c-4cf6-e898-498d740d8df8"
      },
      "source": [
        "drive.mount('/content/drive')"
      ],
      "execution_count": null,
      "outputs": [
        {
          "output_type": "stream",
          "text": [
            "Drive already mounted at /content/drive; to attempt to forcibly remount, call drive.mount(\"/content/drive\", force_remount=True).\n"
          ],
          "name": "stdout"
        }
      ]
    },
    {
      "cell_type": "markdown",
      "metadata": {
        "id": "dyOu0LHNvZ_w"
      },
      "source": [
        "# Data Preprocessing"
      ]
    },
    {
      "cell_type": "markdown",
      "metadata": {
        "id": "nxSzwbbev2Jn"
      },
      "source": [
        "## Importing Data"
      ]
    },
    {
      "cell_type": "code",
      "metadata": {
        "colab": {
          "base_uri": "https://localhost:8080/",
          "height": 203
        },
        "id": "PDLesUi_uELP",
        "outputId": "e971652b-749b-4f1f-cbc6-85fda6cf4bce"
      },
      "source": [
        "df = pd.read_csv('/content/drive/MyDrive/DataScience_Portfolio/50_Startups.csv')\n",
        "dataNames=df.columns[:-1]\n",
        "df.head()"
      ],
      "execution_count": null,
      "outputs": [
        {
          "output_type": "execute_result",
          "data": {
            "text/html": [
              "<div>\n",
              "<style scoped>\n",
              "    .dataframe tbody tr th:only-of-type {\n",
              "        vertical-align: middle;\n",
              "    }\n",
              "\n",
              "    .dataframe tbody tr th {\n",
              "        vertical-align: top;\n",
              "    }\n",
              "\n",
              "    .dataframe thead th {\n",
              "        text-align: right;\n",
              "    }\n",
              "</style>\n",
              "<table border=\"1\" class=\"dataframe\">\n",
              "  <thead>\n",
              "    <tr style=\"text-align: right;\">\n",
              "      <th></th>\n",
              "      <th>R&amp;D Spend</th>\n",
              "      <th>Administration</th>\n",
              "      <th>Marketing Spend</th>\n",
              "      <th>State</th>\n",
              "      <th>Profit</th>\n",
              "    </tr>\n",
              "  </thead>\n",
              "  <tbody>\n",
              "    <tr>\n",
              "      <th>0</th>\n",
              "      <td>165349.20</td>\n",
              "      <td>136897.80</td>\n",
              "      <td>471784.10</td>\n",
              "      <td>New York</td>\n",
              "      <td>192261.83</td>\n",
              "    </tr>\n",
              "    <tr>\n",
              "      <th>1</th>\n",
              "      <td>162597.70</td>\n",
              "      <td>151377.59</td>\n",
              "      <td>443898.53</td>\n",
              "      <td>California</td>\n",
              "      <td>191792.06</td>\n",
              "    </tr>\n",
              "    <tr>\n",
              "      <th>2</th>\n",
              "      <td>153441.51</td>\n",
              "      <td>101145.55</td>\n",
              "      <td>407934.54</td>\n",
              "      <td>Florida</td>\n",
              "      <td>191050.39</td>\n",
              "    </tr>\n",
              "    <tr>\n",
              "      <th>3</th>\n",
              "      <td>144372.41</td>\n",
              "      <td>118671.85</td>\n",
              "      <td>383199.62</td>\n",
              "      <td>New York</td>\n",
              "      <td>182901.99</td>\n",
              "    </tr>\n",
              "    <tr>\n",
              "      <th>4</th>\n",
              "      <td>142107.34</td>\n",
              "      <td>91391.77</td>\n",
              "      <td>366168.42</td>\n",
              "      <td>Florida</td>\n",
              "      <td>166187.94</td>\n",
              "    </tr>\n",
              "  </tbody>\n",
              "</table>\n",
              "</div>"
            ],
            "text/plain": [
              "   R&D Spend  Administration  Marketing Spend       State     Profit\n",
              "0  165349.20       136897.80        471784.10    New York  192261.83\n",
              "1  162597.70       151377.59        443898.53  California  191792.06\n",
              "2  153441.51       101145.55        407934.54     Florida  191050.39\n",
              "3  144372.41       118671.85        383199.62    New York  182901.99\n",
              "4  142107.34        91391.77        366168.42     Florida  166187.94"
            ]
          },
          "metadata": {
            "tags": []
          },
          "execution_count": 87
        }
      ]
    },
    {
      "cell_type": "markdown",
      "metadata": {
        "id": "1arhg6wUv5XX"
      },
      "source": [
        "## Splitting Data into X and Y values"
      ]
    },
    {
      "cell_type": "code",
      "metadata": {
        "id": "_m7BVbd5vz5Y"
      },
      "source": [
        "x=df.iloc[:,:-1]\n",
        "y=df.iloc[:,-1]"
      ],
      "execution_count": null,
      "outputs": []
    },
    {
      "cell_type": "markdown",
      "metadata": {
        "id": "Y0GGhrN-wE9Q"
      },
      "source": [
        "## Hot Encoding State Variable"
      ]
    },
    {
      "cell_type": "code",
      "metadata": {
        "id": "y44gk7UNwIYY"
      },
      "source": [
        "ct = ColumnTransformer(transformers=[('encoder',OneHotEncoder(), [3])],remainder='passthrough')\n",
        "x = np.array(ct.fit_transform(x))"
      ],
      "execution_count": null,
      "outputs": []
    },
    {
      "cell_type": "markdown",
      "metadata": {
        "id": "nzFanMr-wsHf"
      },
      "source": [
        "## Splitting Data into X and Y"
      ]
    },
    {
      "cell_type": "code",
      "metadata": {
        "id": "Anx-dkf3wvdf"
      },
      "source": [
        "xTrain, xTest, yTrain, yTest = train_test_split(x,y,test_size=0.2,random_state=0)"
      ],
      "execution_count": null,
      "outputs": []
    },
    {
      "cell_type": "markdown",
      "metadata": {
        "id": "4EOaR7cUwfHA"
      },
      "source": [
        "# Creating Model and Prediction"
      ]
    },
    {
      "cell_type": "markdown",
      "metadata": {
        "id": "6K_A7vGOw15I"
      },
      "source": [
        "## Creating Model"
      ]
    },
    {
      "cell_type": "code",
      "metadata": {
        "colab": {
          "base_uri": "https://localhost:8080/"
        },
        "id": "bDS9J27JwibA",
        "outputId": "6ad5f761-f657-468d-ba34-415c88ae5d9a"
      },
      "source": [
        "lr = LinearRegression()\n",
        "lr.fit(xTrain,yTrain)"
      ],
      "execution_count": null,
      "outputs": [
        {
          "output_type": "execute_result",
          "data": {
            "text/plain": [
              "LinearRegression(copy_X=True, fit_intercept=True, n_jobs=None, normalize=False)"
            ]
          },
          "metadata": {
            "tags": []
          },
          "execution_count": 91
        }
      ]
    },
    {
      "cell_type": "markdown",
      "metadata": {
        "id": "edwRueXlw4Yn"
      },
      "source": [
        "## Making Predictions"
      ]
    },
    {
      "cell_type": "code",
      "metadata": {
        "id": "ku5qOJ0ew52A"
      },
      "source": [
        "np.set_printoptions(precision=2)\n",
        "yPred = lr.predict(xTest)"
      ],
      "execution_count": null,
      "outputs": []
    },
    {
      "cell_type": "markdown",
      "metadata": {
        "id": "JPV3yZiaxKZ_"
      },
      "source": [
        "## Plotting Results"
      ]
    },
    {
      "cell_type": "code",
      "metadata": {
        "colab": {
          "base_uri": "https://localhost:8080/",
          "height": 357
        },
        "id": "h8BqYv3cxMw3",
        "outputId": "eea438f7-821a-4e7e-e203-0e6dc760005c"
      },
      "source": [
        "# Preparing Final Dataframe with predicted results with xTest\n",
        "finalDF = pd.DataFrame(yTest)\n",
        "finalDF['Predicted_Profit']=yPred\n",
        "finalDF"
      ],
      "execution_count": null,
      "outputs": [
        {
          "output_type": "execute_result",
          "data": {
            "text/html": [
              "<div>\n",
              "<style scoped>\n",
              "    .dataframe tbody tr th:only-of-type {\n",
              "        vertical-align: middle;\n",
              "    }\n",
              "\n",
              "    .dataframe tbody tr th {\n",
              "        vertical-align: top;\n",
              "    }\n",
              "\n",
              "    .dataframe thead th {\n",
              "        text-align: right;\n",
              "    }\n",
              "</style>\n",
              "<table border=\"1\" class=\"dataframe\">\n",
              "  <thead>\n",
              "    <tr style=\"text-align: right;\">\n",
              "      <th></th>\n",
              "      <th>Profit</th>\n",
              "      <th>Predicted_Profit</th>\n",
              "    </tr>\n",
              "  </thead>\n",
              "  <tbody>\n",
              "    <tr>\n",
              "      <th>28</th>\n",
              "      <td>103282.38</td>\n",
              "      <td>103015.201598</td>\n",
              "    </tr>\n",
              "    <tr>\n",
              "      <th>11</th>\n",
              "      <td>144259.40</td>\n",
              "      <td>132582.277608</td>\n",
              "    </tr>\n",
              "    <tr>\n",
              "      <th>10</th>\n",
              "      <td>146121.95</td>\n",
              "      <td>132447.738452</td>\n",
              "    </tr>\n",
              "    <tr>\n",
              "      <th>41</th>\n",
              "      <td>77798.83</td>\n",
              "      <td>71976.098513</td>\n",
              "    </tr>\n",
              "    <tr>\n",
              "      <th>2</th>\n",
              "      <td>191050.39</td>\n",
              "      <td>178537.482211</td>\n",
              "    </tr>\n",
              "    <tr>\n",
              "      <th>27</th>\n",
              "      <td>105008.31</td>\n",
              "      <td>116161.242302</td>\n",
              "    </tr>\n",
              "    <tr>\n",
              "      <th>38</th>\n",
              "      <td>81229.06</td>\n",
              "      <td>67851.692097</td>\n",
              "    </tr>\n",
              "    <tr>\n",
              "      <th>31</th>\n",
              "      <td>97483.56</td>\n",
              "      <td>98791.733747</td>\n",
              "    </tr>\n",
              "    <tr>\n",
              "      <th>22</th>\n",
              "      <td>110352.25</td>\n",
              "      <td>113969.435330</td>\n",
              "    </tr>\n",
              "    <tr>\n",
              "      <th>4</th>\n",
              "      <td>166187.94</td>\n",
              "      <td>167921.065696</td>\n",
              "    </tr>\n",
              "  </tbody>\n",
              "</table>\n",
              "</div>"
            ],
            "text/plain": [
              "       Profit  Predicted_Profit\n",
              "28  103282.38     103015.201598\n",
              "11  144259.40     132582.277608\n",
              "10  146121.95     132447.738452\n",
              "41   77798.83      71976.098513\n",
              "2   191050.39     178537.482211\n",
              "27  105008.31     116161.242302\n",
              "38   81229.06      67851.692097\n",
              "31   97483.56      98791.733747\n",
              "22  110352.25     113969.435330\n",
              "4   166187.94     167921.065696"
            ]
          },
          "metadata": {
            "tags": []
          },
          "execution_count": 117
        }
      ]
    },
    {
      "cell_type": "code",
      "metadata": {
        "colab": {
          "base_uri": "https://localhost:8080/"
        },
        "id": "nIUcmbHn2Zgo",
        "outputId": "050739fe-f9e7-4497-cb53-ea6d3c8faba4"
      },
      "source": [
        "# Obtaining slope and intercept\n",
        "coef=lr.coef_\n",
        "print('The coefficients are ' + str(coef))\n",
        "\n",
        "intercept=lr.intercept_\n",
        "print('The y intercepts is: ' + str(intercept))\n",
        "\n",
        "rSquared = r2_score(y_true=yTest,y_pred=yPred)\n",
        "print('The rSquared value is: ' + str(rSquared))"
      ],
      "execution_count": null,
      "outputs": [
        {
          "output_type": "stream",
          "text": [
            "The coefficients are [ 8.66e+01 -8.73e+02  7.86e+02  7.73e-01  3.29e-02  3.66e-02]\n",
            "The y intercepts is: 42467.52924853204\n",
            "The rSquared value is: 0.9347068473282515\n"
          ],
          "name": "stdout"
        }
      ]
    },
    {
      "cell_type": "code",
      "metadata": {
        "colab": {
          "base_uri": "https://localhost:8080/",
          "height": 382
        },
        "id": "kwsWcJ8b3VDB",
        "outputId": "616d7768-e06d-4464-84b0-a98199aa9257"
      },
      "source": [
        "# Plotting Data\n",
        "plt.figure(figsize=(5.5,5.5))\n",
        "sns.scatterplot(x='Profit',y='Predicted_Profit',data=finalDF,alpha=0.7)\n",
        "plt.xlabel('Profit',fontsize=14,fontweight='bold')\n",
        "plt.ylabel('Predicted_Profit',fontsize=14,fontweight='bold')\n",
        "plt.text(80000,175000,'r_squared={:.2f}'.format(rSquared))\n",
        "#plt.legend(bbox_to_anchor=(1.05,1),loc=2,borderaxespad=0)"
      ],
      "execution_count": null,
      "outputs": [
        {
          "output_type": "execute_result",
          "data": {
            "text/plain": [
              "Text(80000, 175000, 'r_squared=0.93')"
            ]
          },
          "metadata": {
            "tags": []
          },
          "execution_count": 159
        },
        {
          "output_type": "display_data",
          "data": {
            "image/png": "[encoded data removed]",
            "text/plain": [
              "<Figure size 396x396 with 1 Axes>"
            ]
          },
          "metadata": {
            "tags": [],
            "needs_background": "light"
          }
        }
      ]
    },
    {
      "cell_type": "markdown",
      "metadata": {
        "id": "3P6SUGqU8C_u"
      },
      "source": [
        "# Profit prediction for startup"
      ]
    },
    {
      "cell_type": "markdown",
      "metadata": {
        "id": "bJqoLf3e8IBg"
      },
      "source": [
        "Using the fitted model, we can predict the profits for a single start up company that has the following information\n",
        "\n",
        "\n",
        "* State: New York (encoded as 1,0,0)\n",
        "* Administration Costs: 160,000\n",
        "* Marketing Costs: 130,000\n",
        "* R&D Costs: 300,000\n",
        "\n",
        "\n",
        "\n",
        "\n",
        "\n",
        "\n"
      ]
    },
    {
      "cell_type": "code",
      "metadata": {
        "colab": {
          "base_uri": "https://localhost:8080/"
        },
        "id": "QVEyI9NS8vXh",
        "outputId": "0585a7b2-da77-4c67-9f89-fde0d288856f"
      },
      "source": [
        "print('Profit Prediction: %s' % (lr.predict([[1,0,0,160000,130000,300000]])))"
      ],
      "execution_count": null,
      "outputs": [
        {
          "output_type": "stream",
          "text": [
            "Profit Prediction: [181566.92]\n"
          ],
          "name": "stdout"
        }
      ]
    }
  ]
}