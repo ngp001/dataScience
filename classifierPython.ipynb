{
  "nbformat": 4,
  "nbformat_minor": 0,
  "metadata": {
    "colab": {
      "name": "classifierPython.ipynb",
      "provenance": [],
      "collapsed_sections": [],
      "toc_visible": true
    },
    "kernelspec": {
      "name": "python3",
      "display_name": "Python 3"
    },
    "language_info": {
      "name": "python"
    }
  },
  "cells": [
    {
      "cell_type": "markdown",
      "metadata": {
        "id": "uahpN1gLyZoY"
      },
      "source": [
        "# Classifying Benign and Malignant Tumors"
      ]
    },
    {
      "cell_type": "markdown",
      "metadata": {
        "id": "Inq1n9qhyioA"
      },
      "source": [
        "The data consists of variables that will help classify tumors as benign or malignment. The variables are:\n",
        ",,,,\n",
        "\n",
        "* Clump Thickness\n",
        "* Uniformity of Cell Size\n",
        "* Uniformity of Cell Shape\n",
        "* Marginal Adhesion\n",
        "* Single Epithelial Cell Size\n",
        "* Bare Nuclei\n",
        "* Bland Chromatin\n",
        "* Normal Nucleoli\n",
        "* Mitoses\n",
        "\n",
        "The classes are encoded at 2: 'Benign' or 4: 'Malignant'. Here, we will use Logistic, Kneighbors, SVC, GassianNB, and RandomForest to classify the tumor types."
      ]
    },
    {
      "cell_type": "markdown",
      "metadata": {
        "id": "MES_-J-XzpG5"
      },
      "source": [
        "# Importing Packages"
      ]
    },
    {
      "cell_type": "code",
      "metadata": {
        "id": "lD8_7_bWyUpi"
      },
      "source": [
        "import pandas as pd\n",
        "import numpy as np\n",
        "from sklearn.model_selection import train_test_split\n",
        "from sklearn.preprocessing import StandardScaler\n",
        "from sklearn.linear_model import LogisticRegression\n",
        "from sklearn.neighbors import KNeighborsClassifier\n",
        "from sklearn.svm import SVC\n",
        "from sklearn.naive_bayes import GaussianNB\n",
        "from sklearn.ensemble import RandomForestClassifier\n",
        "from sklearn.metrics import confusion_matrix, accuracy_score"
      ],
      "execution_count": 52,
      "outputs": []
    },
    {
      "cell_type": "code",
      "metadata": {
        "id": "xHw2UOHBzz-5",
        "colab": {
          "base_uri": "https://localhost:8080/"
        },
        "outputId": "5296ae76-7181-4385-dc5d-32ce12a2afd9"
      },
      "source": [
        "from google.colab import drive\n",
        "drive.mount('/content/drive')"
      ],
      "execution_count": 53,
      "outputs": [
        {
          "output_type": "stream",
          "text": [
            "Drive already mounted at /content/drive; to attempt to forcibly remount, call drive.mount(\"/content/drive\", force_remount=True).\n"
          ],
          "name": "stdout"
        }
      ]
    },
    {
      "cell_type": "markdown",
      "metadata": {
        "id": "xw1qrrDf0Vbp"
      },
      "source": [
        "# Importing Dataset and data processing"
      ]
    },
    {
      "cell_type": "code",
      "metadata": {
        "colab": {
          "base_uri": "https://localhost:8080/",
          "height": 237
        },
        "id": "jxKI7-Sp0ZSR",
        "outputId": "f9d32401-b2b8-4f01-9eea-b6f664dd3e77"
      },
      "source": [
        "df = pd.read_csv('/content/drive/MyDrive/DataScience_Portfolio/CancerData.csv')\n",
        "\n",
        "# Splitting data into X and Y. X contains descriptor variables and Y contains classifications.\n",
        "X=df.iloc[:,:-1].values\n",
        "Y=df.iloc[:,-1].values\n",
        "\n",
        "# Splitting Data into test and training sets\n",
        "xTrain, xTest, yTrain, yTest = train_test_split(X,Y,test_size=0.25,random_state=0)\n",
        "\n",
        "df.head()"
      ],
      "execution_count": 54,
      "outputs": [
        {
          "output_type": "execute_result",
          "data": {
            "text/html": [
              "<div>\n",
              "<style scoped>\n",
              "    .dataframe tbody tr th:only-of-type {\n",
              "        vertical-align: middle;\n",
              "    }\n",
              "\n",
              "    .dataframe tbody tr th {\n",
              "        vertical-align: top;\n",
              "    }\n",
              "\n",
              "    .dataframe thead th {\n",
              "        text-align: right;\n",
              "    }\n",
              "</style>\n",
              "<table border=\"1\" class=\"dataframe\">\n",
              "  <thead>\n",
              "    <tr style=\"text-align: right;\">\n",
              "      <th></th>\n",
              "      <th>Sample code number</th>\n",
              "      <th>Clump Thickness</th>\n",
              "      <th>Uniformity of Cell Size</th>\n",
              "      <th>Uniformity of Cell Shape</th>\n",
              "      <th>Marginal Adhesion</th>\n",
              "      <th>Single Epithelial Cell Size</th>\n",
              "      <th>Bare Nuclei</th>\n",
              "      <th>Bland Chromatin</th>\n",
              "      <th>Normal Nucleoli</th>\n",
              "      <th>Mitoses</th>\n",
              "      <th>Class</th>\n",
              "    </tr>\n",
              "  </thead>\n",
              "  <tbody>\n",
              "    <tr>\n",
              "      <th>0</th>\n",
              "      <td>1000025</td>\n",
              "      <td>5</td>\n",
              "      <td>1</td>\n",
              "      <td>1</td>\n",
              "      <td>1</td>\n",
              "      <td>2</td>\n",
              "      <td>1</td>\n",
              "      <td>3</td>\n",
              "      <td>1</td>\n",
              "      <td>1</td>\n",
              "      <td>2</td>\n",
              "    </tr>\n",
              "    <tr>\n",
              "      <th>1</th>\n",
              "      <td>1002945</td>\n",
              "      <td>5</td>\n",
              "      <td>4</td>\n",
              "      <td>4</td>\n",
              "      <td>5</td>\n",
              "      <td>7</td>\n",
              "      <td>10</td>\n",
              "      <td>3</td>\n",
              "      <td>2</td>\n",
              "      <td>1</td>\n",
              "      <td>2</td>\n",
              "    </tr>\n",
              "    <tr>\n",
              "      <th>2</th>\n",
              "      <td>1015425</td>\n",
              "      <td>3</td>\n",
              "      <td>1</td>\n",
              "      <td>1</td>\n",
              "      <td>1</td>\n",
              "      <td>2</td>\n",
              "      <td>2</td>\n",
              "      <td>3</td>\n",
              "      <td>1</td>\n",
              "      <td>1</td>\n",
              "      <td>2</td>\n",
              "    </tr>\n",
              "    <tr>\n",
              "      <th>3</th>\n",
              "      <td>1016277</td>\n",
              "      <td>6</td>\n",
              "      <td>8</td>\n",
              "      <td>8</td>\n",
              "      <td>1</td>\n",
              "      <td>3</td>\n",
              "      <td>4</td>\n",
              "      <td>3</td>\n",
              "      <td>7</td>\n",
              "      <td>1</td>\n",
              "      <td>2</td>\n",
              "    </tr>\n",
              "    <tr>\n",
              "      <th>4</th>\n",
              "      <td>1017023</td>\n",
              "      <td>4</td>\n",
              "      <td>1</td>\n",
              "      <td>1</td>\n",
              "      <td>3</td>\n",
              "      <td>2</td>\n",
              "      <td>1</td>\n",
              "      <td>3</td>\n",
              "      <td>1</td>\n",
              "      <td>1</td>\n",
              "      <td>2</td>\n",
              "    </tr>\n",
              "  </tbody>\n",
              "</table>\n",
              "</div>"
            ],
            "text/plain": [
              "   Sample code number  Clump Thickness  ...  Mitoses  Class\n",
              "0             1000025                5  ...        1      2\n",
              "1             1002945                5  ...        1      2\n",
              "2             1015425                3  ...        1      2\n",
              "3             1016277                6  ...        1      2\n",
              "4             1017023                4  ...        1      2\n",
              "\n",
              "[5 rows x 11 columns]"
            ]
          },
          "metadata": {
            "tags": []
          },
          "execution_count": 54
        }
      ]
    },
    {
      "cell_type": "markdown",
      "metadata": {
        "id": "eOtB-h381Y-h"
      },
      "source": [
        "# Running classification"
      ]
    },
    {
      "cell_type": "code",
      "metadata": {
        "id": "rXSW0Ffd1emR"
      },
      "source": [
        "def classy(xTrain,xTest,yTrain,yTest):\n",
        "\n",
        "    '''\n",
        "    DATA PREPARATION\n",
        "    '''\n",
        "    xTrain = np.delete(xTrain,0,1)      # remove sample name from xTrain\n",
        "    xTestSamples = xTest[:,0]           # extract sample name from xTest \n",
        "    xTest = np.delete(xTest,0,1)        # remove sample name from xTest\n",
        "    \n",
        "    # Scaling Features to equal influence for features\n",
        "    sc = StandardScaler()                    \n",
        "    xTrain = sc.fit_transform(xTrain)   \n",
        "    xTest = sc.fit_transform(xTest)\n",
        "\n",
        "    #Logistic Classification\n",
        "    LogisticClassy = LogisticRegression(random_state=0)\n",
        "\n",
        "    # KNN Classifier\n",
        "    knnClassy = KNeighborsClassifier()\n",
        "\n",
        "    # Kernel SVC\n",
        "    SVCClassy = SVC(kernel='rbf',random_state=0)\n",
        "\n",
        "    # Naive Bayes\n",
        "    BayesClassy = GaussianNB()\n",
        "\n",
        "    # Random Forest\n",
        "    RandomForestClassy = RandomForestClassifier(n_estimators=100,criterion='entropy',random_state=0)\n",
        "\n",
        "    # Prepping output dataframes\n",
        "    xTest_inverseTransform = sc.inverse_transform(xTest)\n",
        "    resultDF = pd.DataFrame(({'Patient':xTestSamples,'True_Label':yTest}))\n",
        "    accuracyDF = []\n",
        "\n",
        "    # Running classifiers\n",
        "    classifiers = []\n",
        "    classifiers.extend([LogisticClassy,knnClassy,SVCClassy,BayesClassy,RandomForestClassy])\n",
        "\n",
        "    for clf in classifiers:\n",
        "        classyName = clf.__class__.__name__\n",
        "        print('Performing ' + classyName)\n",
        "        clf.fit(xTrain,yTrain)                # Fitting model\n",
        "        clf_ypredict = clf.predict(xTest)     # predict data from testing set\n",
        "        clf_acc = accuracy_score(y_true=yTest,y_pred=clf_ypredict) # Obtaining accuracy\n",
        "\n",
        "        resultDF[classyName + '_Prediction'] = clf_ypredict\n",
        "        accuracyDF.append({classyName + '_Accuracy':clf_acc})\n",
        "\n",
        "    mapping = {2:'Benign', 4: 'Malignant'}\n",
        "    resultDF.iloc[:,1:7] = resultDF.iloc[:,1:7].applymap(lambda s: mapping.get(s) if s in mapping else s)\n",
        "\n",
        "    return resultDF, pd.DataFrame(accuracyDF)"
      ],
      "execution_count": 55,
      "outputs": []
    },
    {
      "cell_type": "code",
      "metadata": {
        "colab": {
          "base_uri": "https://localhost:8080/"
        },
        "id": "xGKaecuR2nZa",
        "outputId": "8ade6a10-18d6-43f1-d849-8eb986349cc9"
      },
      "source": [
        "results,accuracy = classy(xTrain,xTest,yTrain,yTest)"
      ],
      "execution_count": 56,
      "outputs": [
        {
          "output_type": "stream",
          "text": [
            "Performing LogisticRegression\n",
            "Performing KNeighborsClassifier\n",
            "Performing SVC\n",
            "Performing GaussianNB\n",
            "Performing RandomForestClassifier\n"
          ],
          "name": "stdout"
        }
      ]
    },
    {
      "cell_type": "code",
      "metadata": {
        "colab": {
          "base_uri": "https://localhost:8080/",
          "height": 437
        },
        "id": "Bd3z1ulx2tX5",
        "outputId": "1688fff0-0ae8-4d90-fb67-d31570b91144"
      },
      "source": [
        "results"
      ],
      "execution_count": 57,
      "outputs": [
        {
          "output_type": "execute_result",
          "data": {
            "text/html": [
              "<div>\n",
              "<style scoped>\n",
              "    .dataframe tbody tr th:only-of-type {\n",
              "        vertical-align: middle;\n",
              "    }\n",
              "\n",
              "    .dataframe tbody tr th {\n",
              "        vertical-align: top;\n",
              "    }\n",
              "\n",
              "    .dataframe thead th {\n",
              "        text-align: right;\n",
              "    }\n",
              "</style>\n",
              "<table border=\"1\" class=\"dataframe\">\n",
              "  <thead>\n",
              "    <tr style=\"text-align: right;\">\n",
              "      <th></th>\n",
              "      <th>Patient</th>\n",
              "      <th>True_Label</th>\n",
              "      <th>LogisticRegression_Prediction</th>\n",
              "      <th>KNeighborsClassifier_Prediction</th>\n",
              "      <th>SVC_Prediction</th>\n",
              "      <th>GaussianNB_Prediction</th>\n",
              "      <th>RandomForestClassifier_Prediction</th>\n",
              "    </tr>\n",
              "  </thead>\n",
              "  <tbody>\n",
              "    <tr>\n",
              "      <th>0</th>\n",
              "      <td>1173347</td>\n",
              "      <td>Benign</td>\n",
              "      <td>Benign</td>\n",
              "      <td>Benign</td>\n",
              "      <td>Benign</td>\n",
              "      <td>Benign</td>\n",
              "      <td>Benign</td>\n",
              "    </tr>\n",
              "    <tr>\n",
              "      <th>1</th>\n",
              "      <td>1156017</td>\n",
              "      <td>Benign</td>\n",
              "      <td>Benign</td>\n",
              "      <td>Benign</td>\n",
              "      <td>Benign</td>\n",
              "      <td>Benign</td>\n",
              "      <td>Benign</td>\n",
              "    </tr>\n",
              "    <tr>\n",
              "      <th>2</th>\n",
              "      <td>706426</td>\n",
              "      <td>Malignant</td>\n",
              "      <td>Malignant</td>\n",
              "      <td>Malignant</td>\n",
              "      <td>Malignant</td>\n",
              "      <td>Malignant</td>\n",
              "      <td>Malignant</td>\n",
              "    </tr>\n",
              "    <tr>\n",
              "      <th>3</th>\n",
              "      <td>1330439</td>\n",
              "      <td>Malignant</td>\n",
              "      <td>Malignant</td>\n",
              "      <td>Malignant</td>\n",
              "      <td>Malignant</td>\n",
              "      <td>Malignant</td>\n",
              "      <td>Malignant</td>\n",
              "    </tr>\n",
              "    <tr>\n",
              "      <th>4</th>\n",
              "      <td>693702</td>\n",
              "      <td>Benign</td>\n",
              "      <td>Benign</td>\n",
              "      <td>Benign</td>\n",
              "      <td>Benign</td>\n",
              "      <td>Benign</td>\n",
              "      <td>Benign</td>\n",
              "    </tr>\n",
              "    <tr>\n",
              "      <th>...</th>\n",
              "      <td>...</td>\n",
              "      <td>...</td>\n",
              "      <td>...</td>\n",
              "      <td>...</td>\n",
              "      <td>...</td>\n",
              "      <td>...</td>\n",
              "      <td>...</td>\n",
              "    </tr>\n",
              "    <tr>\n",
              "      <th>166</th>\n",
              "      <td>1266124</td>\n",
              "      <td>Benign</td>\n",
              "      <td>Benign</td>\n",
              "      <td>Benign</td>\n",
              "      <td>Benign</td>\n",
              "      <td>Benign</td>\n",
              "      <td>Benign</td>\n",
              "    </tr>\n",
              "    <tr>\n",
              "      <th>167</th>\n",
              "      <td>1197979</td>\n",
              "      <td>Benign</td>\n",
              "      <td>Benign</td>\n",
              "      <td>Benign</td>\n",
              "      <td>Benign</td>\n",
              "      <td>Benign</td>\n",
              "      <td>Benign</td>\n",
              "    </tr>\n",
              "    <tr>\n",
              "      <th>168</th>\n",
              "      <td>764974</td>\n",
              "      <td>Benign</td>\n",
              "      <td>Benign</td>\n",
              "      <td>Benign</td>\n",
              "      <td>Benign</td>\n",
              "      <td>Benign</td>\n",
              "      <td>Benign</td>\n",
              "    </tr>\n",
              "    <tr>\n",
              "      <th>169</th>\n",
              "      <td>1137156</td>\n",
              "      <td>Benign</td>\n",
              "      <td>Benign</td>\n",
              "      <td>Benign</td>\n",
              "      <td>Benign</td>\n",
              "      <td>Benign</td>\n",
              "      <td>Benign</td>\n",
              "    </tr>\n",
              "    <tr>\n",
              "      <th>170</th>\n",
              "      <td>1160476</td>\n",
              "      <td>Benign</td>\n",
              "      <td>Benign</td>\n",
              "      <td>Benign</td>\n",
              "      <td>Benign</td>\n",
              "      <td>Benign</td>\n",
              "      <td>Benign</td>\n",
              "    </tr>\n",
              "  </tbody>\n",
              "</table>\n",
              "<p>171 rows × 7 columns</p>\n",
              "</div>"
            ],
            "text/plain": [
              "     Patient True_Label  ... GaussianNB_Prediction RandomForestClassifier_Prediction\n",
              "0    1173347     Benign  ...                Benign                            Benign\n",
              "1    1156017     Benign  ...                Benign                            Benign\n",
              "2     706426  Malignant  ...             Malignant                         Malignant\n",
              "3    1330439  Malignant  ...             Malignant                         Malignant\n",
              "4     693702     Benign  ...                Benign                            Benign\n",
              "..       ...        ...  ...                   ...                               ...\n",
              "166  1266124     Benign  ...                Benign                            Benign\n",
              "167  1197979     Benign  ...                Benign                            Benign\n",
              "168   764974     Benign  ...                Benign                            Benign\n",
              "169  1137156     Benign  ...                Benign                            Benign\n",
              "170  1160476     Benign  ...                Benign                            Benign\n",
              "\n",
              "[171 rows x 7 columns]"
            ]
          },
          "metadata": {
            "tags": []
          },
          "execution_count": 57
        }
      ]
    },
    {
      "cell_type": "code",
      "metadata": {
        "colab": {
          "base_uri": "https://localhost:8080/",
          "height": 203
        },
        "id": "ld_42MLE2u0Z",
        "outputId": "beee6632-e9dc-49c9-dbd1-bd511b0b670b"
      },
      "source": [
        "accuracy"
      ],
      "execution_count": 58,
      "outputs": [
        {
          "output_type": "execute_result",
          "data": {
            "text/html": [
              "<div>\n",
              "<style scoped>\n",
              "    .dataframe tbody tr th:only-of-type {\n",
              "        vertical-align: middle;\n",
              "    }\n",
              "\n",
              "    .dataframe tbody tr th {\n",
              "        vertical-align: top;\n",
              "    }\n",
              "\n",
              "    .dataframe thead th {\n",
              "        text-align: right;\n",
              "    }\n",
              "</style>\n",
              "<table border=\"1\" class=\"dataframe\">\n",
              "  <thead>\n",
              "    <tr style=\"text-align: right;\">\n",
              "      <th></th>\n",
              "      <th>LogisticRegression_Accuracy</th>\n",
              "      <th>KNeighborsClassifier_Accuracy</th>\n",
              "      <th>SVC_Accuracy</th>\n",
              "      <th>GaussianNB_Accuracy</th>\n",
              "      <th>RandomForestClassifier_Accuracy</th>\n",
              "    </tr>\n",
              "  </thead>\n",
              "  <tbody>\n",
              "    <tr>\n",
              "      <th>0</th>\n",
              "      <td>0.947368</td>\n",
              "      <td>NaN</td>\n",
              "      <td>NaN</td>\n",
              "      <td>NaN</td>\n",
              "      <td>NaN</td>\n",
              "    </tr>\n",
              "    <tr>\n",
              "      <th>1</th>\n",
              "      <td>NaN</td>\n",
              "      <td>0.947368</td>\n",
              "      <td>NaN</td>\n",
              "      <td>NaN</td>\n",
              "      <td>NaN</td>\n",
              "    </tr>\n",
              "    <tr>\n",
              "      <th>2</th>\n",
              "      <td>NaN</td>\n",
              "      <td>NaN</td>\n",
              "      <td>0.947368</td>\n",
              "      <td>NaN</td>\n",
              "      <td>NaN</td>\n",
              "    </tr>\n",
              "    <tr>\n",
              "      <th>3</th>\n",
              "      <td>NaN</td>\n",
              "      <td>NaN</td>\n",
              "      <td>NaN</td>\n",
              "      <td>0.94152</td>\n",
              "      <td>NaN</td>\n",
              "    </tr>\n",
              "    <tr>\n",
              "      <th>4</th>\n",
              "      <td>NaN</td>\n",
              "      <td>NaN</td>\n",
              "      <td>NaN</td>\n",
              "      <td>NaN</td>\n",
              "      <td>0.947368</td>\n",
              "    </tr>\n",
              "  </tbody>\n",
              "</table>\n",
              "</div>"
            ],
            "text/plain": [
              "   LogisticRegression_Accuracy  ...  RandomForestClassifier_Accuracy\n",
              "0                     0.947368  ...                              NaN\n",
              "1                          NaN  ...                              NaN\n",
              "2                          NaN  ...                              NaN\n",
              "3                          NaN  ...                              NaN\n",
              "4                          NaN  ...                         0.947368\n",
              "\n",
              "[5 rows x 5 columns]"
            ]
          },
          "metadata": {
            "tags": []
          },
          "execution_count": 58
        }
      ]
    }
  ]
}